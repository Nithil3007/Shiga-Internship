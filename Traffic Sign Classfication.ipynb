{
 "cells": [
  {
   "cell_type": "code",
   "execution_count": 1,
   "id": "36b59267",
   "metadata": {},
   "outputs": [],
   "source": [
    "import pandas as pd\n",
    "import numpy as np\n",
    "import os\n",
    "import tensorflow as tf\n",
    "import cv2\n",
    "import random\n",
    "import PIL\n",
    "from tensorflow import keras\n",
    "from tensorflow.keras.layers import InputLayer\n",
    "from tensorflow.keras.layers import Flatten,MaxPool2D\n",
    "from tensorflow.keras import layers, Input\n",
    "from keras.layers.convolutional import Conv2D\n",
    "from keras.layers.core import Dense,Dropout\n",
    "from tensorflow.keras.models import Sequential, Model\n",
    "from  matplotlib import pyplot as plt\n",
    "from sklearn.model_selection import train_test_split\n",
    "from sklearn.metrics import accuracy_score\n",
    "import matplotlib.image as mpimg\n",
    "from keras.utils import to_categorical\n",
    "from PIL import Image\n",
    "%matplotlib inline"
   ]
  },
  {
   "cell_type": "code",
   "execution_count": 3,
   "id": "b808bbf5",
   "metadata": {},
   "outputs": [],
   "source": [
    "classes = { 1:'Speed limit (20km/h)',\n",
    "            2:'Speed limit (30km/h)', \n",
    "            3:'Speed limit (50km/h)', \n",
    "            4:'Speed limit (60km/h)', \n",
    "            5:'Speed limit (70km/h)', \n",
    "            6:'Speed limit (80km/h)', \n",
    "            7:'End of speed limit (80km/h)', \n",
    "            8:'Speed limit (100km/h)', \n",
    "            9:'Speed limit (120km/h)', \n",
    "            10:'No passing', \n",
    "            11:'No passing veh over 3.5 tons', \n",
    "            12:'Right-of-way at intersection', \n",
    "            13:'Priority road', \n",
    "            14:'Yield', \n",
    "            15:'Stop', \n",
    "            16:'No vehicles', \n",
    "            17:'Veh > 3.5 tons prohibited', \n",
    "            18:'No entry', \n",
    "            19:'General caution', \n",
    "            20:'Dangerous curve left', \n",
    "            21:'Dangerous curve right', \n",
    "            22:'Double curve', \n",
    "            23:'Bumpy road', \n",
    "            24:'Slippery road', \n",
    "            25:'Road narrows on the right', \n",
    "            26:'Road work', \n",
    "            27:'Traffic signals', \n",
    "            28:'Pedestrians', \n",
    "            29:'Children crossing', \n",
    "            30:'Bicycles crossing', \n",
    "            31:'Beware of ice/snow',\n",
    "            32:'Wild animals crossing', \n",
    "            33:'End speed + passing limits', \n",
    "            34:'Turn right ahead', \n",
    "            35:'Turn left ahead', \n",
    "            36:'Ahead only', \n",
    "            37:'Go straight or right', \n",
    "            38:'Go straight or left', \n",
    "            39:'Keep right', \n",
    "            40:'Keep left', \n",
    "            41:'Roundabout mandatory', \n",
    "            42:'End of no passing', \n",
    "            43:'End no passing veh > 3.5 tons' }"
   ]
  },
  {
   "cell_type": "code",
   "execution_count": 4,
   "id": "0bf8cd71",
   "metadata": {},
   "outputs": [],
   "source": [
    "data = []\n",
    "labels = []\n",
    "images = []\n",
    "no_of_classes = len(classes)\n",
    "train_path = 'Train'"
   ]
  },
  {
   "cell_type": "code",
   "execution_count": 5,
   "id": "6dd86594",
   "metadata": {},
   "outputs": [
    {
     "name": "stdout",
     "output_type": "stream",
     "text": [
      "Number of images in class 0 = 178\n",
      "Number of images in class 1 = 2192\n",
      "Number of images in class 10 = 1978\n",
      "Number of images in class 11 = 1292\n",
      "Number of images in class 12 = 2067\n",
      "Number of images in class 13 = 2127\n",
      "Number of images in class 14 = 746\n",
      "Number of images in class 15 = 596\n",
      "Number of images in class 16 = 396\n",
      "Number of images in class 17 = 1074\n",
      "Number of images in class 18 = 1169\n",
      "Number of images in class 19 = 176\n",
      "Number of images in class 2 = 2218\n",
      "Number of images in class 20 = 328\n",
      "Number of images in class 21 = 299\n",
      "Number of images in class 22 = 357\n",
      "Number of images in class 23 = 477\n",
      "Number of images in class 24 = 238\n",
      "Number of images in class 25 = 1468\n",
      "Number of images in class 26 = 568\n",
      "Number of images in class 27 = 207\n",
      "Number of images in class 28 = 505\n",
      "Number of images in class 29 = 238\n",
      "Number of images in class 3 = 1378\n",
      "Number of images in class 30 = 417\n",
      "Number of images in class 31 = 747\n",
      "Number of images in class 32 = 209\n",
      "Number of images in class 33 = 657\n",
      "Number of images in class 34 = 388\n",
      "Number of images in class 35 = 1167\n",
      "Number of images in class 36 = 358\n",
      "Number of images in class 37 = 176\n",
      "Number of images in class 38 = 2038\n",
      "Number of images in class 39 = 267\n",
      "Number of images in class 4 = 1948\n",
      "Number of images in class 40 = 328\n",
      "Number of images in class 41 = 210\n",
      "Number of images in class 42 = 206\n",
      "Number of images in class 5 = 1829\n",
      "Number of images in class 6 = 385\n",
      "Number of images in class 7 = 1408\n",
      "Number of images in class 8 = 1379\n",
      "Number of images in class 9 = 1440\n"
     ]
    }
   ],
   "source": [
    "for x in os.listdir(train_path):\n",
    "    count=0\n",
    "    for root_dir, cur_dir, files in os.walk(train_path + '/' + x):\n",
    "        count += len(files)\n",
    "    print('Number of images in class ' + str(int(x)) + ' = ' + str(count))"
   ]
  },
  {
   "cell_type": "code",
   "execution_count": 6,
   "id": "b9efdc8d",
   "metadata": {},
   "outputs": [],
   "source": [
    "for i in range(no_of_classes):\n",
    "    path = os.path.join(train_path,str(i))\n",
    "    images = os.listdir(path)\n",
    "    for x in images:\n",
    "        image = Image.open(path + '\\\\'+ x)\n",
    "        image = image.resize((30,30))\n",
    "        image = np.array(image)\n",
    "        #sim = Image.fromarray(image)\n",
    "        data.append(image)\n",
    "        labels.append(i)"
   ]
  },
  {
   "cell_type": "code",
   "execution_count": 7,
   "id": "71779f98",
   "metadata": {},
   "outputs": [
    {
     "name": "stdout",
     "output_type": "stream",
     "text": [
      "Number of images in test dataset = 12630\n"
     ]
    }
   ],
   "source": [
    "test_dir = 'Test'\n",
    "print('Number of images in test dataset = ' + str(len(os.listdir(test_dir))))"
   ]
  },
  {
   "cell_type": "code",
   "execution_count": 8,
   "id": "76cc4280",
   "metadata": {},
   "outputs": [
    {
     "name": "stdout",
     "output_type": "stream",
     "text": [
      "(37829, 30, 30, 3) (37829,)\n"
     ]
    }
   ],
   "source": [
    "#Converting lists into numpy arrays\n",
    "data = np.array(data)\n",
    "labels = np.array(labels)\n",
    "\n",
    "print(data.shape, labels.shape)"
   ]
  },
  {
   "cell_type": "code",
   "execution_count": 9,
   "id": "e9a01da3",
   "metadata": {},
   "outputs": [
    {
     "name": "stdout",
     "output_type": "stream",
     "text": [
      "(30263, 30, 30, 3) (7566, 30, 30, 3) (30263,) (7566,)\n"
     ]
    }
   ],
   "source": [
    "#Splitting training and testing dataset\n",
    "X_train, X_test, y_train, y_test = train_test_split(data, labels, test_size=0.2, random_state=42)\n",
    "\n",
    "print(X_train.shape, X_test.shape, y_train.shape, y_test.shape)"
   ]
  },
  {
   "cell_type": "code",
   "execution_count": 10,
   "id": "6748c159",
   "metadata": {},
   "outputs": [],
   "source": [
    "#Converting the labels into one hot encoding\n",
    "y_train = to_categorical(y_train, 43)\n",
    "y_test = to_categorical(y_test, 43)"
   ]
  },
  {
   "cell_type": "code",
   "execution_count": 11,
   "id": "7d5d523a",
   "metadata": {},
   "outputs": [],
   "source": [
    "y_test = pd.read_csv('Test.csv')\n",
    "\n",
    "labels = y_test[\"ClassId\"].values\n",
    "imgs = y_test[\"Path\"].values"
   ]
  },
  {
   "cell_type": "code",
   "execution_count": 12,
   "id": "18ce1472",
   "metadata": {},
   "outputs": [],
   "source": [
    "data=[]\n",
    "\n",
    "for img in imgs:\n",
    "    image = Image.open(img)\n",
    "    image = image.resize((30,30))\n",
    "    data.append(np.array(image))\n",
    "    \n",
    "X_test=np.array(data)"
   ]
  },
  {
   "cell_type": "code",
   "execution_count": 13,
   "id": "1361407d",
   "metadata": {},
   "outputs": [],
   "source": [
    "model = Sequential()\n",
    "model.add(Conv2D(filters=32, kernel_size=(5,5), activation='relu', input_shape=X_train.shape[1:]))\n",
    "model.add(Conv2D(filters=32, kernel_size=(5,5), activation='relu'))\n",
    "#model.add(Conv2D(filters=32, kernel_size=(5,5), activation='relu'))\n",
    "model.add(MaxPool2D(pool_size=(2, 2)))\n",
    "model.add(Dropout(rate=0.25))\n",
    "model.add(Conv2D(filters=64, kernel_size=(3, 3), activation='relu'))\n",
    "model.add(Conv2D(filters=64, kernel_size=(3, 3), activation='relu'))\n",
    "model.add(MaxPool2D(pool_size=(2, 2)))\n",
    "model.add(Dropout(rate=0.25))\n",
    "model.add(Flatten())\n",
    "#model.add(Dense(256, activation='relu'))\n",
    "#model.add(Dropout(rate=0.5))\n",
    "model.add(Dense(128, activation='relu'))\n",
    "model.add(Dropout(rate=0.5))\n",
    "#model.add(Dense(64, activation='relu'))\n",
    "#model.add(Dropout(rate=0.5))\n",
    "model.add(Dense(43, activation='softmax'))"
   ]
  },
  {
   "cell_type": "code",
   "execution_count": 14,
   "id": "b3f53c2b",
   "metadata": {
    "scrolled": false
   },
   "outputs": [
    {
     "name": "stdout",
     "output_type": "stream",
     "text": [
      "Model: \"sequential_1\"\n",
      "_________________________________________________________________\n",
      " Layer (type)                Output Shape              Param #   \n",
      "=================================================================\n",
      " conv2d (Conv2D)             (None, 26, 26, 32)        2432      \n",
      "                                                                 \n",
      " conv2d_1 (Conv2D)           (None, 22, 22, 32)        25632     \n",
      "                                                                 \n",
      " max_pooling2d (MaxPooling2D  (None, 11, 11, 32)       0         \n",
      " )                                                               \n",
      "                                                                 \n",
      " dropout (Dropout)           (None, 11, 11, 32)        0         \n",
      "                                                                 \n",
      " conv2d_2 (Conv2D)           (None, 9, 9, 64)          18496     \n",
      "                                                                 \n",
      " conv2d_3 (Conv2D)           (None, 7, 7, 64)          36928     \n",
      "                                                                 \n",
      " max_pooling2d_1 (MaxPooling  (None, 3, 3, 64)         0         \n",
      " 2D)                                                             \n",
      "                                                                 \n",
      " dropout_1 (Dropout)         (None, 3, 3, 64)          0         \n",
      "                                                                 \n",
      " flatten (Flatten)           (None, 576)               0         \n",
      "                                                                 \n",
      " dense (Dense)               (None, 128)               73856     \n",
      "                                                                 \n",
      " dropout_2 (Dropout)         (None, 128)               0         \n",
      "                                                                 \n",
      " dense_1 (Dense)             (None, 43)                5547      \n",
      "                                                                 \n",
      "=================================================================\n",
      "Total params: 162,891\n",
      "Trainable params: 162,891\n",
      "Non-trainable params: 0\n",
      "_________________________________________________________________\n"
     ]
    }
   ],
   "source": [
    "model.summary()"
   ]
  },
  {
   "cell_type": "code",
   "execution_count": 12,
   "id": "795a0695",
   "metadata": {},
   "outputs": [
    {
     "name": "stdout",
     "output_type": "stream",
     "text": [
      "Epoch 1/15\n",
      "946/946 [==============================] - 69s 72ms/step - loss: 2.1981 - accuracy: 0.4476 - val_loss: 0.7298 - val_accuracy: 0.8372\n",
      "Epoch 2/15\n",
      "946/946 [==============================] - 69s 73ms/step - loss: 0.9463 - accuracy: 0.7208 - val_loss: 0.2960 - val_accuracy: 0.9207\n",
      "Epoch 3/15\n",
      "946/946 [==============================] - 69s 73ms/step - loss: 0.6522 - accuracy: 0.8014 - val_loss: 0.2489 - val_accuracy: 0.9281\n",
      "Epoch 4/15\n",
      "946/946 [==============================] - 71s 75ms/step - loss: 0.5244 - accuracy: 0.8431 - val_loss: 0.1497 - val_accuracy: 0.9572\n",
      "Epoch 5/15\n",
      "946/946 [==============================] - 72s 76ms/step - loss: 0.4387 - accuracy: 0.8681 - val_loss: 0.1332 - val_accuracy: 0.9654\n",
      "Epoch 6/15\n",
      "946/946 [==============================] - 70s 74ms/step - loss: 0.3940 - accuracy: 0.8830 - val_loss: 0.1501 - val_accuracy: 0.9597\n",
      "Epoch 7/15\n",
      "946/946 [==============================] - 74s 78ms/step - loss: 0.3361 - accuracy: 0.9045 - val_loss: 0.0947 - val_accuracy: 0.9750\n",
      "Epoch 8/15\n",
      "946/946 [==============================] - 73s 78ms/step - loss: 0.3405 - accuracy: 0.9025 - val_loss: 0.0905 - val_accuracy: 0.9742\n",
      "Epoch 9/15\n",
      "946/946 [==============================] - 72s 76ms/step - loss: 0.3057 - accuracy: 0.9122 - val_loss: 0.0780 - val_accuracy: 0.9789\n",
      "Epoch 10/15\n",
      "946/946 [==============================] - 72s 76ms/step - loss: 0.2947 - accuracy: 0.9181 - val_loss: 0.0812 - val_accuracy: 0.9778\n",
      "Epoch 11/15\n",
      "946/946 [==============================] - 77s 81ms/step - loss: 0.2707 - accuracy: 0.9235 - val_loss: 0.0793 - val_accuracy: 0.9771\n",
      "Epoch 12/15\n",
      "946/946 [==============================] - 73s 77ms/step - loss: 0.2799 - accuracy: 0.9238 - val_loss: 0.0841 - val_accuracy: 0.9774\n",
      "Epoch 13/15\n",
      "946/946 [==============================] - 72s 76ms/step - loss: 0.2655 - accuracy: 0.9242 - val_loss: 0.0765 - val_accuracy: 0.9778\n",
      "Epoch 14/15\n",
      "946/946 [==============================] - 71s 75ms/step - loss: 0.2746 - accuracy: 0.9246 - val_loss: 0.0887 - val_accuracy: 0.9773\n",
      "Epoch 15/15\n",
      "946/946 [==============================] - 76s 80ms/step - loss: 0.2535 - accuracy: 0.9304 - val_loss: 0.0569 - val_accuracy: 0.9841\n"
     ]
    }
   ],
   "source": [
    "#Compilation of the model\n",
    "model.compile(loss='categorical_crossentropy', optimizer='adam', metrics=['accuracy'])\n",
    "\n",
    "epochs = 15\n",
    "history = model.fit(X_train, y_train, batch_size=32, epochs=epochs, validation_data=(X_test, y_test))"
   ]
  },
  {
   "cell_type": "code",
   "execution_count": 15,
   "id": "eef3c4ee",
   "metadata": {},
   "outputs": [
    {
     "data": {
      "image/png": "[encoded data removed]",
      "text/plain": [
       "<Figure size 432x288 with 1 Axes>"
      ]
     },
     "metadata": {
      "needs_background": "light"
     },
     "output_type": "display_data"
    }
   ],
   "source": [
    "plt.figure(0)\n",
    "plt.plot(history.history['accuracy'], label='training accuracy')\n",
    "plt.plot(history.history['val_accuracy'], label='val accuracy')\n",
    "plt.title('Accuracy')\n",
    "plt.xlabel('Epochs')\n",
    "plt.ylabel('Accuracy')\n",
    "plt.legend()\n",
    "plt.show()"
   ]
  },
  {
   "cell_type": "code",
   "execution_count": 16,
   "id": "0f660e4e",
   "metadata": {},
   "outputs": [
    {
     "data": {
      "image/png": "[encoded data removed]",
      "text/plain": [
       "<Figure size 432x288 with 1 Axes>"
      ]
     },
     "metadata": {
      "needs_background": "light"
     },
     "output_type": "display_data"
    }
   ],
   "source": [
    "plt.figure(1)\n",
    "plt.plot(history.history['loss'], label='training loss')\n",
    "plt.plot(history.history['val_loss'], label='val loss')\n",
    "plt.title('Loss')\n",
    "plt.xlabel('Epochs')\n",
    "plt.ylabel('Loss')\n",
    "plt.legend()\n",
    "plt.show()"
   ]
  },
  {
   "cell_type": "code",
   "execution_count": 33,
   "id": "f9e9ce8a",
   "metadata": {},
   "outputs": [
    {
     "name": "stdout",
     "output_type": "stream",
     "text": [
      "395/395 [==============================] - 4s 11ms/step\n",
      "0.9450514647664291\n"
     ]
    }
   ],
   "source": [
    "pred = model.predict(X_test)\n",
    "pred = np.argmax(pred,axis=1)\n",
    "\n",
    "#Accuracy with the test data\n",
    "print(accuracy_score(labels, pred))"
   ]
  },
  {
   "cell_type": "code",
   "execution_count": 34,
   "id": "74d1e925",
   "metadata": {},
   "outputs": [
    {
     "data": {
      "text/plain": [
       "array([[[12570,     0],\n",
       "        [    9,    51]],\n",
       "\n",
       "       [[11896,    14],\n",
       "        [   25,   695]],\n",
       "\n",
       "       [[11807,    73],\n",
       "        [   20,   730]],\n",
       "\n",
       "       [[12139,    41],\n",
       "        [   37,   413]],\n",
       "\n",
       "       [[11939,    31],\n",
       "        [   31,   629]],\n",
       "\n",
       "       [[11915,    85],\n",
       "        [   49,   581]],\n",
       "\n",
       "       [[12479,     1],\n",
       "        [   21,   129]],\n",
       "\n",
       "       [[12165,    15],\n",
       "        [   52,   398]],\n",
       "\n",
       "       [[12129,    51],\n",
       "        [    8,   442]],\n",
       "\n",
       "       [[12147,     3],\n",
       "        [    2,   478]],\n",
       "\n",
       "       [[11960,    10],\n",
       "        [    8,   652]],\n",
       "\n",
       "       [[12190,    20],\n",
       "        [   20,   400]],\n",
       "\n",
       "       [[11929,    11],\n",
       "        [   17,   673]],\n",
       "\n",
       "       [[11889,    21],\n",
       "        [    5,   715]],\n",
       "\n",
       "       [[12358,     2],\n",
       "        [    0,   270]],\n",
       "\n",
       "       [[12401,    19],\n",
       "        [    2,   208]],\n",
       "\n",
       "       [[12480,     0],\n",
       "        [    2,   148]],\n",
       "\n",
       "       [[12270,     0],\n",
       "        [   13,   347]],\n",
       "\n",
       "       [[12223,    17],\n",
       "        [   68,   322]],\n",
       "\n",
       "       [[12564,     6],\n",
       "        [   14,    46]],\n",
       "\n",
       "       [[12528,    12],\n",
       "        [    2,    88]],\n",
       "\n",
       "       [[12532,     8],\n",
       "        [   20,    70]],\n",
       "\n",
       "       [[12509,     1],\n",
       "        [    5,   115]],\n",
       "\n",
       "       [[12468,    12],\n",
       "        [   18,   132]],\n",
       "\n",
       "       [[12518,    22],\n",
       "        [    4,    86]],\n",
       "\n",
       "       [[12121,    29],\n",
       "        [   19,   461]],\n",
       "\n",
       "       [[12422,    28],\n",
       "        [   13,   167]],\n",
       "\n",
       "       [[12560,    10],\n",
       "        [   31,    29]],\n",
       "\n",
       "       [[12479,     1],\n",
       "        [    9,   141]],\n",
       "\n",
       "       [[12532,     8],\n",
       "        [    2,    88]],\n",
       "\n",
       "       [[12471,     9],\n",
       "        [   19,   131]],\n",
       "\n",
       "       [[12329,    31],\n",
       "        [    3,   267]],\n",
       "\n",
       "       [[12567,     3],\n",
       "        [    3,    57]],\n",
       "\n",
       "       [[12398,    22],\n",
       "        [    9,   201]],\n",
       "\n",
       "       [[12508,     2],\n",
       "        [    8,   112]],\n",
       "\n",
       "       [[12224,    16],\n",
       "        [   21,   369]],\n",
       "\n",
       "       [[12504,     6],\n",
       "        [    5,   115]],\n",
       "\n",
       "       [[12568,     2],\n",
       "        [    7,    53]],\n",
       "\n",
       "       [[11921,    19],\n",
       "        [   28,   662]],\n",
       "\n",
       "       [[12537,     3],\n",
       "        [   22,    68]],\n",
       "\n",
       "       [[12538,     2],\n",
       "        [   18,    72]],\n",
       "\n",
       "       [[12546,    24],\n",
       "        [    2,    58]],\n",
       "\n",
       "       [[12536,     4],\n",
       "        [   23,    67]]], dtype=int64)"
      ]
     },
     "execution_count": 34,
     "metadata": {},
     "output_type": "execute_result"
    }
   ],
   "source": [
    "from sklearn.metrics import multilabel_confusion_matrix\n",
    "multilabel_confusion_matrix(labels, pred)"
   ]
  },
  {
   "cell_type": "code",
   "execution_count": 36,
   "id": "eb050019",
   "metadata": {},
   "outputs": [
    {
     "name": "stdout",
     "output_type": "stream",
     "text": [
      "[[ 51   0   0 ...   0   0   0]\n",
      " [  0 695   3 ...   0   0   0]\n",
      " [  0   3 730 ...   0   0   0]\n",
      " ...\n",
      " [  0   1   1 ...  72   0   0]\n",
      " [  0   0   0 ...   0  58   0]\n",
      " [  0   0   0 ...   0  21  67]]\n"
     ]
    }
   ],
   "source": [
    "from sklearn.metrics import confusion_matrix\n",
    "print(confusion_matrix(labels, pred))"
   ]
  },
  {
   "cell_type": "code",
   "execution_count": 38,
   "id": "ed270b72",
   "metadata": {},
   "outputs": [
    {
     "data": {
      "text/plain": [
       "<AxesSubplot:>"
      ]
     },
     "execution_count": 38,
     "metadata": {},
     "output_type": "execute_result"
    },
    {
     "data": {
      "image/png": "[encoded data removed]",
      "text/plain": [
       "<Figure size 432x288 with 2 Axes>"
      ]
     },
     "metadata": {
      "needs_background": "light"
     },
     "output_type": "display_data"
    }
   ],
   "source": [
    "import seaborn as sns\n",
    "sns.heatmap(confusion_matrix(labels, pred), annot=True)"
   ]
  },
  {
   "cell_type": "code",
   "execution_count": null,
   "id": "32ebfefe",
   "metadata": {},
   "outputs": [],
   "source": []
  }
 ],
 "metadata": {
  "kernelspec": {
   "display_name": "Python 3 (ipykernel)",
   "language": "python",
   "name": "python3"
  },
  "language_info": {
   "codemirror_mode": {
    "name": "ipython",
    "version": 3
   },
   "file_extension": ".py",
   "mimetype": "text/x-python",
   "name": "python",
   "nbconvert_exporter": "python",
   "pygments_lexer": "ipython3",
   "version": "3.9.7"
  }
 },
 "nbformat": 4,
 "nbformat_minor": 5
}
